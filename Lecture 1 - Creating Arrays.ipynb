{
 "cells": [
  {
   "cell_type": "code",
   "execution_count": 1,
   "metadata": {},
   "outputs": [],
   "source": [
    "import numpy as np"
   ]
  },
  {
   "cell_type": "code",
   "execution_count": 2,
   "metadata": {},
   "outputs": [],
   "source": [
    "list_1 = [1,2,3,4]\n",
    "list_2 = [5,6,7,8]\n",
    "lists = [list_1,list_2]\n",
    "\n",
    "# Array có thể tạo từ 1 list\n",
    "my_arr = np.array(list_1)\n",
    "\n",
    "# Array cũng có thể tạo từ 2 list\n",
    "my_arr1 = np.array(lists)\n",
    "#my_arr1.shape\n",
    "#my_arr1.dtype\n",
    "\n",
    "# Tạo array có giá trị từ 0 đến 4\n",
    "my_arr2 = np.arange(5)\n",
    "\n",
    "# Tạo array có giá trị từ 1 đến 50, bước nhảy là 2\n",
    "my_arr3 = np.arange(1,50,2)\n",
    "\n",
    "# Tạo array chứa toàn giá trị 0 hoặc 1 hoặc array trống\n",
    "zero_arr = np.zeros(5)\n",
    "one_arr = np.ones(5)\n",
    "empty_arr = np.empty([5])\n",
    "\n",
    "# Tạo 1 identity matrix (ma trận đơn vị)\n",
    "identity_matrix = np.eye(3)"
   ]
  }
 ],
 "metadata": {
  "kernelspec": {
   "display_name": "Python 3",
   "language": "python",
   "name": "python3"
  },
  "language_info": {
   "codemirror_mode": {
    "name": "ipython",
    "version": 3
   },
   "file_extension": ".py",
   "mimetype": "text/x-python",
   "name": "python",
   "nbconvert_exporter": "python",
   "pygments_lexer": "ipython3",
   "version": "3.8.5"
  }
 },
 "nbformat": 4,
 "nbformat_minor": 4
}
